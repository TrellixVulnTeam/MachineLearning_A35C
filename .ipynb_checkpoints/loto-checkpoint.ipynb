{
 "cells": [
  {
   "cell_type": "code",
   "execution_count": 16,
   "metadata": {},
   "outputs": [
    {
     "name": "stdout",
     "output_type": "stream",
     "text": [
      "ASUS GTX 1050 2G 得獎人= 玉芬\n"
     ]
    }
   ],
   "source": [
    "import random\n",
    "import time\n",
    "\n",
    "Person_Array=[\"孟軒\",\"洛哥\",\"波尼\",\"玉芬\",\"Dylan\",\"正晏\",\"郁翔\"]\n",
    "\n",
    "length = len(Person_Array)\n",
    "\n",
    "rand_int = random.randint(0,length-1)\n",
    "\n",
    "time.sleep(10)\n",
    "\n",
    "print(\"ASUS GTX 1050 2G 得獎人=> \",Person_Array[rand_int])"
   ]
  },
  {
   "cell_type": "code",
   "execution_count": null,
   "metadata": {},
   "outputs": [],
   "source": []
  },
  {
   "cell_type": "code",
   "execution_count": null,
   "metadata": {},
   "outputs": [],
   "source": []
  }
 ],
 "metadata": {
  "kernelspec": {
   "display_name": "Python 3",
   "language": "python",
   "name": "python3"
  },
  "language_info": {
   "codemirror_mode": {
    "name": "ipython",
    "version": 3
   },
   "file_extension": ".py",
   "mimetype": "text/x-python",
   "name": "python",
   "nbconvert_exporter": "python",
   "pygments_lexer": "ipython3",
   "version": "3.6.8"
  }
 },
 "nbformat": 4,
 "nbformat_minor": 2
}
