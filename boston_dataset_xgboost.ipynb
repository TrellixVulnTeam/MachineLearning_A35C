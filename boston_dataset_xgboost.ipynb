{
 "cells": [
  {
   "cell_type": "code",
   "execution_count": 1,
   "metadata": {},
   "outputs": [],
   "source": [
    "import _pickle\n",
    "import xgboost as xgb\n",
    "import numpy as np\n",
    "from sklearn.model_selection import KFold, train_test_split, GridSearchCV\n",
    "from sklearn.metrics import confusion_matrix, mean_squared_error\n",
    "from sklearn.datasets import load_iris, load_digits, load_boston"
   ]
  },
  {
   "cell_type": "code",
   "execution_count": null,
   "metadata": {},
   "outputs": [
    {
     "name": "stdout",
     "output_type": "stream",
     "text": [
      "[01:32:24] WARNING: C:/Jenkins/workspace/xgboost-win64_release_0.90/src/objective/regression_obj.cu:152: reg:linear is now deprecated in favor of reg:squarederror.\n"
     ]
    }
   ],
   "source": [
    "#回歸問題\n",
    "boston = load_boston()\n",
    "y_boston = boston['target']\n",
    "x_boston = boston['data']\n",
    "#boston\n",
    "#y_boston\n",
    "#x_boston\n",
    "# Provides train/test indices to split data in train/test sets. \n",
    "# Split dataset into k consecutive folds (without shuffling by default)\n",
    "kf = KFold(n_splits=2, shuffle=True, random_state=1234)\n",
    "\n",
    "for train_index, test_index in kf.split(x_boston):\n",
    "    xgboost_model = xgb.XGBRegressor().fit(x_boston[train_index], y_boston[train_index])\n",
    "    #预测结果\n",
    "    pred = xgboost_model.predict(x_boston[test_index])\n",
    "    #标准答案\n",
    "    ground_truth = y_boston[test_index]\n",
    "    print(mean_squared_error(ground_truth, pred))"
   ]
  },
  {
   "cell_type": "code",
   "execution_count": null,
   "metadata": {},
   "outputs": [],
   "source": []
  }
 ],
 "metadata": {
  "kernelspec": {
   "display_name": "Python 3",
   "language": "python",
   "name": "python3"
  },
  "language_info": {
   "codemirror_mode": {
    "name": "ipython",
    "version": 3
   },
   "file_extension": ".py",
   "mimetype": "text/x-python",
   "name": "python",
   "nbconvert_exporter": "python",
   "pygments_lexer": "ipython3",
   "version": "3.6.8"
  }
 },
 "nbformat": 4,
 "nbformat_minor": 2
}
